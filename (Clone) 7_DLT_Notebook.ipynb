{
 "cells": [
  {
   "cell_type": "code",
   "execution_count": 0,
   "metadata": {
    "application/vnd.databricks.v1+cell": {
     "cellMetadata": {},
     "inputWidgets": {},
     "nuid": "319821ce-9772-48a5-9823-4b623ab3f31d",
     "showTitle": false,
     "tableResultSettingsMap": {},
     "title": ""
    }
   },
   "outputs": [],
   "source": [
    "spark"
   ]
  },
  {
   "cell_type": "code",
   "execution_count": 0,
   "metadata": {
    "application/vnd.databricks.v1+cell": {
     "cellMetadata": {},
     "inputWidgets": {},
     "nuid": "8eb922de-20c7-4696-b52e-5a164543d311",
     "showTitle": false,
     "tableResultSettingsMap": {},
     "title": ""
    }
   },
   "outputs": [],
   "source": [
    "lookup_rules ={\n",
    "    \"rule1\": \"show_id is NOT NULL\"\n",
    "}"
   ]
  },
  {
   "cell_type": "code",
   "execution_count": 0,
   "metadata": {
    "application/vnd.databricks.v1+cell": {
     "cellMetadata": {
      "byteLimit": 2048000,
      "rowLimit": 10000
     },
     "inputWidgets": {},
     "nuid": "4f97d6f5-5066-4de2-b3c3-0a6007ab8764",
     "showTitle": false,
     "tableResultSettingsMap": {},
     "title": ""
    }
   },
   "outputs": [],
   "source": [
    "%MD\n",
    "DLT TABLE GOLD LAYER"
   ]
  },
  {
   "cell_type": "code",
   "execution_count": 0,
   "metadata": {
    "application/vnd.databricks.v1+cell": {
     "cellMetadata": {},
     "inputWidgets": {},
     "nuid": "49b6ad01-02ec-41d2-af8e-6162fc09e247",
     "showTitle": false,
     "tableResultSettingsMap": {},
     "title": ""
    }
   },
   "outputs": [],
   "source": [
    "#define a streaming table to ingest data from a volume\n",
    "@dlt.table(\n",
    "    name= \"gold_netflixdirectors\"\n",
    "\n",
    ")\n",
    "#we can use this as well\n",
    "@dlt.expect_or_drop(\"rule1\", \"show_id is NOT NULL\")\n",
    "def myfunc():\n",
    "    df = spark.readStream.format(\"delta\").load(\"abfss://silver@datalakenetflixsuresh.dfs.core.windows.net/netflix_directors\")\n",
    "    return df"
   ]
  },
  {
   "cell_type": "code",
   "execution_count": 0,
   "metadata": {
    "application/vnd.databricks.v1+cell": {
     "cellMetadata": {},
     "inputWidgets": {},
     "nuid": "b0834825-18f9-4e8f-9892-ec2b2683d17d",
     "showTitle": false,
     "tableResultSettingsMap": {},
     "title": ""
    }
   },
   "outputs": [],
   "source": [
    "@dlt.table(\n",
    "    name = \"gold_netflixcast\"\n",
    ")\n",
    "@dlt.expect_or_drop(lookup_rules)\n",
    "def myfunc():\n",
    "    df = spark.readStream.format(\"delta\").load(\"abfss://silver@datalakenetflixsuresh.dfs.core.windows.net/netflix_cast\")\n",
    "    return df"
   ]
  },
  {
   "cell_type": "code",
   "execution_count": 0,
   "metadata": {
    "application/vnd.databricks.v1+cell": {
     "cellMetadata": {},
     "inputWidgets": {},
     "nuid": "9856f434-e56a-4033-842b-08be4643e6ff",
     "showTitle": false,
     "tableResultSettingsMap": {},
     "title": ""
    }
   },
   "outputs": [],
   "source": [
    "@dlt.table(\n",
    "    name = \"gold_netflixcountries\"\n",
    ")\n",
    "@dlt.expect_or_drop(lookup_rules)\n",
    "def myfunc():\n",
    "    df = spark.readStream.format(\"delta\").load(\"abfss://silver@datalakenetflixsuresh.dfs.core.windows.net/netflix_countries\")\n",
    "    return df"
   ]
  },
  {
   "cell_type": "code",
   "execution_count": 0,
   "metadata": {
    "application/vnd.databricks.v1+cell": {
     "cellMetadata": {},
     "inputWidgets": {},
     "nuid": "47107f62-96ac-4fb4-8ff7-442bd2621cb6",
     "showTitle": false,
     "tableResultSettingsMap": {},
     "title": ""
    }
   },
   "outputs": [],
   "source": [
    "@dlt.table(\n",
    "    name = \"gold_netflixcategories\"\n",
    ")\n",
    "@dlt.expect_or_drop(lookup_rules)\n",
    "def myfunc():\n",
    "    df = spark.readStream.format(\"delta\").load(\"abfss://silver@datalakenetflixsuresh.dfs.core.windows.net/netflix_categories\")\n",
    "    return df"
   ]
  },
  {
   "cell_type": "code",
   "execution_count": 0,
   "metadata": {
    "application/vnd.databricks.v1+cell": {
     "cellMetadata": {
      "byteLimit": 2048000,
      "rowLimit": 10000
     },
     "inputWidgets": {},
     "nuid": "afa57bef-7e7d-48f7-9acd-bfcf85d1fb99",
     "showTitle": false,
     "tableResultSettingsMap": {},
     "title": ""
    }
   },
   "outputs": [],
   "source": [
    "@dlt.table\n",
    "\n",
    "def gold_stg_netflixfiles():\n",
    "    df = spark.readStream.format(\"delta\").load(\"abfss://silver@datalakenetflixsuresh.dfs.core.windows.net/netflix_files\")\n",
    "    return df\n",
    "\n",
    "\n"
   ]
  },
  {
   "cell_type": "code",
   "execution_count": 0,
   "metadata": {
    "application/vnd.databricks.v1+cell": {
     "cellMetadata": {},
     "inputWidgets": {},
     "nuid": "51cecf60-9939-49d7-ba28-bb29b18ef96f",
     "showTitle": false,
     "tableResultSettingsMap": {},
     "title": ""
    }
   },
   "outputs": [],
   "source": [
    "@dlt.view\n",
    "\n",
    "def gold_transform_netflixfiles():\n",
    "    df = spark.readStream.table(\"LIVE.gold_stg_netflixfiles\")\n",
    "    df = df.withColumn(\"newflag\",lit(1))\n",
    "    return df\n"
   ]
  },
  {
   "cell_type": "code",
   "execution_count": 0,
   "metadata": {
    "application/vnd.databricks.v1+cell": {
     "cellMetadata": {},
     "inputWidgets": {},
     "nuid": "8371e747-e074-4e10-93ff-65d8613c9306",
     "showTitle": false,
     "tableResultSettingsMap": {},
     "title": ""
    }
   },
   "outputs": [],
   "source": [
    "masterdata_rules ={\n",
    "    \"rule1\": \"newflag is NOT NULL\",\n",
    "    \"rule2\": \"show_id id NOT NULL\"\n",
    "}"
   ]
  },
  {
   "cell_type": "code",
   "execution_count": 0,
   "metadata": {
    "application/vnd.databricks.v1+cell": {
     "cellMetadata": {},
     "inputWidgets": {},
     "nuid": "3891b33d-d9b7-4d3c-8d3a-dcce4e95e614",
     "showTitle": false,
     "tableResultSettingsMap": {},
     "title": ""
    }
   },
   "outputs": [],
   "source": [
    "@dlt.table\n",
    "@dlt.expect_all_or_drop(masterdata_rules)\n",
    "def gold_netflixfiles():\n",
    "    df = spark.readStream.table(\"LIVE.gold_transform_netflixfiles\")\n",
    "    return df"
   ]
  }
 ],
 "metadata": {
  "application/vnd.databricks.v1+notebook": {
   "computePreferences": null,
   "dashboards": [],
   "environmentMetadata": {
    "base_environment": "",
    "environment_version": "2"
   },
   "language": "python",
   "notebookMetadata": {
    "pythonIndentUnit": 4
   },
   "notebookName": "(Clone) 7_DLT_Notebook",
   "widgets": {}
  },
  "language_info": {
   "name": "python"
  }
 },
 "nbformat": 4,
 "nbformat_minor": 0
}
